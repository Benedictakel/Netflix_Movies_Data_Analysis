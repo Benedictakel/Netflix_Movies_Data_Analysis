{
  "nbformat": 4,
  "nbformat_minor": 0,
  "metadata": {
    "colab": {
      "provenance": [],
      "authorship_tag": "ABX9TyPFSmsTQEy7tZtIgWxEkuY0"
    },
    "kernelspec": {
      "name": "python3",
      "display_name": "Python 3"
    },
    "language_info": {
      "name": "python"
    }
  },
  "cells": [
    {
      "cell_type": "code",
      "execution_count": null,
      "metadata": {
        "id": "cFxC9qGGjAqQ"
      },
      "outputs": [],
      "source": [
        "import pandas as pd\n",
        "import numpy as np\n",
        "import matplotlib.pyplot as plt\n",
        "import seaborn as sns\n",
        "\n",
        "import plotly.express as px\n"
      ]
    },
    {
      "cell_type": "code",
      "source": [
        "url = \"https://raw.githubusercontent.com/sagnik1511/netflix-data-analysis/main/netflix_titles.csv\"\n",
        "df = pd.read_csv(url)\n",
        "df.head()\n"
      ],
      "metadata": {
        "id": "90SplbTEjvoy"
      },
      "execution_count": null,
      "outputs": []
    },
    {
      "cell_type": "code",
      "source": [
        "df.info()\n",
        "df.isnull().sum()\n",
        "\n",
        "# Fill missing values for 'country' and 'rating' with mode\n",
        "df['country'].fillna(df['country'].mode()[0], inplace=True)\n",
        "df['rating'].fillna(df['rating'].mode()[0], inplace=True)\n",
        "df['date_added'].fillna(method='ffill', inplace=True)\n",
        "df['duration'].fillna('0 min', inplace=True)\n",
        "\n",
        "# Convert 'date_added' to datetime\n",
        "df['date_added'] = pd.to_datetime(df['date_added'])\n",
        "df['year_added'] = df['date_added'].dt.year\n"
      ],
      "metadata": {
        "id": "02xpENP6jz94"
      },
      "execution_count": null,
      "outputs": []
    },
    {
      "cell_type": "code",
      "source": [
        "# Number of movies vs TV Shows\n",
        "sns.countplot(data=df, x='type', palette='pastel')\n",
        "plt.title('Content Type Distribution')\n",
        "plt.show()\n",
        "\n",
        "# Top 10 genres (from 'listed_in')\n",
        "from collections import Counter\n",
        "\n",
        "genre_list = df['listed_in'].str.split(', ')\n",
        "all_genres = [genre for sublist in genre_list for genre in sublist]\n",
        "genre_count = Counter(all_genres)\n",
        "\n",
        "pd.Series(genre_count).nlargest(10).plot(kind='bar', color='teal')\n",
        "plt.title('Top 10 Genres on Netflix')\n",
        "plt.ylabel('Number of Titles')\n",
        "plt.show()\n"
      ],
      "metadata": {
        "id": "It7PWnKqj3vF"
      },
      "execution_count": null,
      "outputs": []
    },
    {
      "cell_type": "code",
      "source": [
        "# Count content released by year\n",
        "df['release_year'].value_counts().sort_index().plot(kind='line', figsize=(12,5))\n",
        "plt.title('Content Released per Year')\n",
        "plt.xlabel('Year')\n",
        "plt.ylabel('Number of Titles')\n",
        "plt.grid(True)\n",
        "plt.show()\n"
      ],
      "metadata": {
        "id": "O98HXQJ_j7jD"
      },
      "execution_count": null,
      "outputs": []
    },
    {
      "cell_type": "code",
      "source": [
        "# Count by country\n",
        "top_countries = df['country'].value_counts().head(10)\n",
        "sns.barplot(y=top_countries.index, x=top_countries.values, palette='magma')\n",
        "plt.title(\"Top 10 Countries Producing Netflix Content\")\n",
        "plt.xlabel(\"Number of Titles\")\n",
        "plt.ylabel(\"Country\")\n",
        "plt.show()\n"
      ],
      "metadata": {
        "id": "7LjpIR22j_Zs"
      },
      "execution_count": null,
      "outputs": []
    },
    {
      "cell_type": "code",
      "source": [
        "top_directors = df['director'].dropna().value_counts().head(10)\n",
        "top_directors.plot(kind='barh', color='coral')\n",
        "plt.title(\"Top 10 Directors on Netflix\")\n",
        "plt.xlabel(\"Number of Titles\")\n",
        "plt.gca().invert_yaxis()\n",
        "plt.show()\n"
      ],
      "metadata": {
        "id": "6lUsrmhGkaaA"
      },
      "execution_count": null,
      "outputs": []
    },
    {
      "cell_type": "code",
      "source": [
        "from wordcloud import WordCloud\n",
        "\n",
        "text = ' '.join(df['description'].dropna())\n",
        "wc = WordCloud(width=800, height=400, background_color='black').generate(text)\n",
        "\n",
        "plt.figure(figsize=(12, 6))\n",
        "plt.imshow(wc, interpolation='bilinear')\n",
        "plt.axis('off')\n",
        "plt.title(\"Word Cloud of Descriptions\")\n",
        "plt.show()\n"
      ],
      "metadata": {
        "id": "qqRO1JGSkfSu"
      },
      "execution_count": null,
      "outputs": []
    }
  ]
}